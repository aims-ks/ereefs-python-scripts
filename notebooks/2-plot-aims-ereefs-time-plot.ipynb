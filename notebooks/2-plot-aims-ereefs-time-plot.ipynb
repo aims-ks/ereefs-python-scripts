{
 "cells": [
  {
   "cell_type": "markdown",
   "metadata": {},
   "source": [
    "In this notebook we use OpeNDAP to extract time series data at a single location of interest, then plot this data. This extraction process can also be done with the AIMS eReefs data extraction tool (https://extraction.ereefs.aims.gov.au/). If you which to perform bigger extractions then we recommend using this tool instead of this process outlined in this example. "
   ]
  },
  {
   "cell_type": "code",
   "execution_count": 21,
   "metadata": {},
   "outputs": [],
   "source": [
    "from netCDF4 import Dataset, num2date\n",
    "import matplotlib.pyplot as plt\n",
    "import cartopy\n",
    "import cartopy.crs as ccrs\n",
    "import os\n",
    "import datetime\n",
    "import pandas as pd\n",
    "cartopy.config['data_dir'] = os.getenv('CARTOPY_DIR', cartopy.config.get('data_dir'))"
   ]
  },
  {
   "cell_type": "markdown",
   "metadata": {},
   "source": [
    "The first part of the process is to choose the OPeNDAP end point on the AIMS eReefs THREDD server. You can view the products here: http://thredds.ereefs.aims.gov.au/thredds/s3catalogue/aims-ereefs-public-prod/derived/ncaggregate/ereefs/gbr4_v2/catalog.html\n",
    "Connect to the OpeNDAP endpoint for the specified month and year. At this stage there is no grouped OpenDAP service for the entire time series and so this script only works for looking at a single month of data. Hopefully this can be improved in th future."
   ]
  },
  {
   "cell_type": "code",
   "execution_count": 34,
   "metadata": {},
   "outputs": [
    {
     "data": {
      "text/plain": [
       "'2016-03'"
      ]
     },
     "execution_count": 34,
     "metadata": {},
     "output_type": "execute_result"
    }
   ],
   "source": [
    "# Connect to the OpeNDAP endpoint for the specified. At this stage there is no grouped OpenDAP service for \n",
    "month = 3\n",
    "year = 2016\n",
    "netCDF_datestr = str(year)+'-'+format(month, '02')\n",
    "netCDF_datestr"
   ]
  },
  {
   "cell_type": "code",
   "execution_count": 35,
   "metadata": {},
   "outputs": [
    {
     "data": {
      "text/plain": [
       "'eReefs AIMS-CSIRO GBR4 Hydrodynamic v2 daily aggregation'"
      ]
     },
     "execution_count": 35,
     "metadata": {},
     "output_type": "execute_result"
    }
   ],
   "source": [
    "# OPeNDAP URL to file \"EREEFS_AIMS-CSIRO_gbr4_v2_hydro_daily-monthly-2010-09.nc\". Hydrodynamic 4km model, daily data for the month September 2010\n",
    "inputFile = \"http://thredds.ereefs.aims.gov.au/thredds/dodsC/s3://aims-ereefs-public-prod/derived/ncaggregate/ereefs/gbr4_v2/daily-monthly/EREEFS_AIMS-CSIRO_gbr4_v2_hydro_daily-monthly-\"+netCDF_datestr+\".nc\"\n",
    "\n",
    "nc_data = Dataset(inputFile, 'r')\n",
    "nc_data.title\n",
    "\n",
    "# To find a list of the variables uncomment the next line:\n",
    "# nc_data.variables"
   ]
  },
  {
   "cell_type": "markdown",
   "metadata": {},
   "source": [
    "Work out the range of the data"
   ]
  },
  {
   "cell_type": "code",
   "execution_count": 36,
   "metadata": {},
   "outputs": [
    {
     "name": "stdout",
     "output_type": "stream",
     "text": [
      "Grid bounds, Lon: 142.168788 - 156.868788 Lat:-28.696022 - -7.036022\n",
      "Grid size is: 491 x 723\n"
     ]
    }
   ],
   "source": [
    "lons = nc_data.variables['longitude'][:]\n",
    "max_lon = max(lons)\n",
    "min_lon = min(lons) \n",
    "lats = nc_data.variables['latitude'][:]\n",
    "max_lat = max(lats)\n",
    "min_lat = min(lats)\n",
    "grid_lon = lons.size\n",
    "grid_lat = lats.size\n",
    "print(\"Grid bounds, Lon: \"+str(min_lon)+\" - \"+str(max_lon)+\" Lat:\"+str(min_lat)+\" - \"+str(max_lat))\n",
    "print(\"Grid size is: \"+str(grid_lon)+\" x \"+str(grid_lat))"
   ]
  },
  {
   "cell_type": "markdown",
   "metadata": {},
   "source": [
    "Find the closest index to the location of interest"
   ]
  },
  {
   "cell_type": "code",
   "execution_count": 37,
   "metadata": {},
   "outputs": [
    {
     "name": "stdout",
     "output_type": "stream",
     "text": [
      "Grid position of location: 330, 183\n"
     ]
    }
   ],
   "source": [
    "# Davies reef\n",
    "lat = -18.82\n",
    "lon = 147.64\n",
    "selectedLatIndex = round((lat-min_lat)/(max_lat-min_lat)*grid_lat)\n",
    "selectedLonIndex = round((lon-min_lon)/(max_lon-min_lon)*grid_lon)\n",
    "print(\"Grid position of location: \"+str(selectedLatIndex)+\", \"+str(selectedLonIndex))"
   ]
  },
  {
   "cell_type": "markdown",
   "metadata": {},
   "source": [
    "Extract the values over time at this location"
   ]
  },
  {
   "cell_type": "code",
   "execution_count": 38,
   "metadata": {},
   "outputs": [
    {
     "name": "stdout",
     "output_type": "stream",
     "text": [
      "[30.920511 29.575703 29.260357 29.239874 29.283915]\n"
     ]
    }
   ],
   "source": [
    "selectedDepthIndex = 15 # -1.5m\n",
    "\n",
    "# Time, Depth, Lat, Lon\n",
    "dailyTemp = nc_data.variables['temp'][:,selectedDepthIndex, selectedLatIndex, selectedLonIndex]\n",
    "print(dailyTemp[0:5])"
   ]
  },
  {
   "cell_type": "markdown",
   "metadata": {},
   "source": [
    "Get the time series. Note that the time values are stored as the number of days since 1990-01-01 00:00:00 +10. As a result we need to convert these to datetime objects and do a bit of calendar math to workout the actual dates."
   ]
  },
  {
   "cell_type": "code",
   "execution_count": 39,
   "metadata": {},
   "outputs": [
    {
     "name": "stdout",
     "output_type": "stream",
     "text": [
      "[9556. 9557. 9558. 9559. 9560.]\n"
     ]
    }
   ],
   "source": [
    "times = nc_data.variables['time'][:]\n",
    "print(times[0:5])"
   ]
  },
  {
   "cell_type": "code",
   "execution_count": 40,
   "metadata": {},
   "outputs": [],
   "source": [
    "# Convert the days since the 1990 origin into Pandas dates for plotting\n",
    "dates = pd.to_datetime(times,unit='D',origin=pd.Timestamp('1990-01-01'))\n"
   ]
  },
  {
   "cell_type": "code",
   "execution_count": 41,
   "metadata": {},
   "outputs": [
    {
     "data": {
      "image/png": "[encoded data removed]",
      "text/plain": [
       "<Figure size 432x288 with 1 Axes>"
      ]
     },
     "metadata": {
      "needs_background": "light"
     },
     "output_type": "display_data"
    }
   ],
   "source": [
    "plt.plot(dates,dailyTemp)\n",
    "\n",
    "# Set the axes formating to show the dates on an angle on the current figure (gcf)\n",
    "plt.gcf().autofmt_xdate()\n",
    "plt.xlabel('Date')\n",
    "plt.ylabel('Temperature (deg C)')\n",
    "plt.title('Temperature at Davies Reef')\n",
    "plt.show()"
   ]
  },
  {
   "cell_type": "code",
   "execution_count": null,
   "metadata": {},
   "outputs": [],
   "source": []
  }
 ],
 "metadata": {
  "kernelspec": {
   "display_name": "Python 3",
   "language": "python",
   "name": "python3"
  },
  "language_info": {
   "codemirror_mode": {
    "name": "ipython",
    "version": 3
   },
   "file_extension": ".py",
   "mimetype": "text/x-python",
   "name": "python",
   "nbconvert_exporter": "python",
   "pygments_lexer": "ipython3",
   "version": "3.8.5"
  }
 },
 "nbformat": 4,
 "nbformat_minor": 4
}
