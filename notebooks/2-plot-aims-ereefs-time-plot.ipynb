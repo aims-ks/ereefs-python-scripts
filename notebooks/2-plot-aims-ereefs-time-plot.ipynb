{
 "cells": [
  {
   "cell_type": "markdown",
   "metadata": {},
   "source": [
    "In this notebook we use OpeNDAP to extract time series data at a single location of interest, then plot this data. This extraction process can also be done with the AIMS eReefs data extraction tool (https://extraction.ereefs.aims.gov.au/). If you which to perform bigger extractions then we recommend using this tool instead of this process outlined in this example. Note: This script has no error checking and so changing the date ranges or locations might result in out of bounds errors."
   ]
  },
  {
   "cell_type": "code",
   "execution_count": 1,
   "metadata": {},
   "outputs": [],
   "source": [
    "from netCDF4 import Dataset, num2date\n",
    "import matplotlib.pyplot as plt\n",
    "import cartopy\n",
    "import cartopy.crs as ccrs\n",
    "import os\n",
    "import datetime\n",
    "import pandas as pd\n",
    "import numpy as np\n",
    "cartopy.config['data_dir'] = os.getenv('CARTOPY_DIR', cartopy.config.get('data_dir'))"
   ]
  },
  {
   "cell_type": "markdown",
   "metadata": {},
   "source": [
    "The first part of the process is to choose the OPeNDAP end point on the AIMS eReefs THREDD server. You can view the products here: http://thredds.ereefs.aims.gov.au/thredds/s3catalogue/aims-ereefs-public-prod/derived/ncaggregate/ereefs/gbr4_v2/catalog.html.\n",
    "At this stage there is no grouped OPeNDAP service for the entire time series and so this script only works for looking at a single month of data. Hopefully this can be improved in the future."
   ]
  },
  {
   "cell_type": "code",
   "execution_count": 2,
   "metadata": {},
   "outputs": [
    {
     "data": {
      "text/plain": [
       "'2020-03'"
      ]
     },
     "execution_count": 2,
     "metadata": {},
     "output_type": "execute_result"
    }
   ],
   "source": [
    "# Connect to the OpeNDAP endpoint for the specified month.  \n",
    "month = 3\n",
    "year = 2020\n",
    "netCDF_datestr = str(year)+'-'+format(month, '02')\n",
    "netCDF_datestr"
   ]
  },
  {
   "cell_type": "code",
   "execution_count": 3,
   "metadata": {},
   "outputs": [
    {
     "name": "stdout",
     "output_type": "stream",
     "text": [
      "eReefs AIMS-CSIRO GBR4 Hydrodynamic v2 daily aggregation\n"
     ]
    },
    {
     "data": {
      "text/plain": [
       "{'mean_cur': <class 'netCDF4._netCDF4.Variable'>\n",
       " float32 mean_cur(time, k, latitude, longitude)\n",
       "     coordinates: time zc latitude longitude\n",
       "     substanceOrTaxon_id: http://environment.data.gov.au/def/feature/ocean_current\n",
       "     units: ms-1\n",
       "     medium_id: http://environment.data.gov.au/def/feature/ocean\n",
       "     unit_id: http://qudt.org/vocab/unit#MeterPerSecond\n",
       "     short_name: mean_cur\n",
       "     aggregation: mean_speed\n",
       "     standard_name: mean_current_speed\n",
       "     long_name: mean_current_speed\n",
       "     _ChunkSizes: [  1   1 133 491]\n",
       " unlimited dimensions: time\n",
       " current shape = (31, 17, 723, 491)\n",
       " filling off,\n",
       " 'salt': <class 'netCDF4._netCDF4.Variable'>\n",
       " float32 salt(time, k, latitude, longitude)\n",
       "     coordinates: time zc latitude longitude\n",
       "     substanceOrTaxon_id: http://sweet.jpl.nasa.gov/2.2/matrWater.owl#SaltWater\n",
       "     scaledQuantityKind_id: http://environment.data.gov.au/def/property/practical_salinity\n",
       "     short_name: salt\n",
       "     aggregation: Daily\n",
       "     units: PSU\n",
       "     medium_id: http://environment.data.gov.au/def/feature/ocean\n",
       "     unit_id: http://environment.data.gov.au/water/quality/def/unit/PSU\n",
       "     long_name: Salinity\n",
       "     _ChunkSizes: [  1   1 133 491]\n",
       " unlimited dimensions: time\n",
       " current shape = (31, 17, 723, 491)\n",
       " filling off,\n",
       " 'temp': <class 'netCDF4._netCDF4.Variable'>\n",
       " float32 temp(time, k, latitude, longitude)\n",
       "     coordinates: time zc latitude longitude\n",
       "     substanceOrTaxon_id: http://sweet.jpl.nasa.gov/2.2/matrWater.owl#SaltWater\n",
       "     scaledQuantityKind_id: http://environment.data.gov.au/def/property/sea_water_temperature\n",
       "     short_name: temp\n",
       "     aggregation: Daily\n",
       "     units: degrees C\n",
       "     medium_id: http://environment.data.gov.au/def/feature/ocean\n",
       "     unit_id: http://qudt.org/vocab/unit#DegreeCelsius\n",
       "     long_name: Temperature\n",
       "     _ChunkSizes: [  1   1 133 491]\n",
       " unlimited dimensions: time\n",
       " current shape = (31, 17, 723, 491)\n",
       " filling off,\n",
       " 'u': <class 'netCDF4._netCDF4.Variable'>\n",
       " float32 u(time, k, latitude, longitude)\n",
       "     vector_components: u v\n",
       "     coordinates: time zc latitude longitude\n",
       "     substanceOrTaxon_id: http://environment.data.gov.au/def/feature/ocean_current\n",
       "     scaledQuantityKind_id: http://environment.data.gov.au/def/property/sea_water_velocity_eastward\n",
       "     short_name: u\n",
       "     vector_name: Currents\n",
       "     standard_name: eastward_sea_water_velocity\n",
       "     aggregation: Daily\n",
       "     units: ms-1\n",
       "     medium_id: http://environment.data.gov.au/def/feature/ocean\n",
       "     unit_id: http://qudt.org/vocab/unit#MeterPerSecond\n",
       "     long_name: Eastward current\n",
       "     _ChunkSizes: [  1   1 133 491]\n",
       " unlimited dimensions: time\n",
       " current shape = (31, 17, 723, 491)\n",
       " filling off,\n",
       " 'v': <class 'netCDF4._netCDF4.Variable'>\n",
       " float32 v(time, k, latitude, longitude)\n",
       "     vector_components: u v\n",
       "     coordinates: time zc latitude longitude\n",
       "     substanceOrTaxon_id: http://environment.data.gov.au/def/feature/ocean_current\n",
       "     scaledQuantityKind_id: http://environment.data.gov.au/def/property/sea_water_velocity_northward\n",
       "     short_name: v\n",
       "     vector_name: Currents\n",
       "     standard_name: northward_sea_water_velocity\n",
       "     aggregation: Daily\n",
       "     units: ms-1\n",
       "     medium_id: http://environment.data.gov.au/def/feature/ocean\n",
       "     unit_id: http://qudt.org/vocab/unit#MeterPerSecond\n",
       "     long_name: Northward current\n",
       "     _ChunkSizes: [  1   1 133 491]\n",
       " unlimited dimensions: time\n",
       " current shape = (31, 17, 723, 491)\n",
       " filling off,\n",
       " 'zc': <class 'netCDF4._netCDF4.Variable'>\n",
       " float64 zc(k)\n",
       "     positive: up\n",
       "     coordinate_type: Z\n",
       "     units: m\n",
       "     long_name: Z coordinate\n",
       "     axis: Z\n",
       "     _CoordinateAxisType: Height\n",
       "     _CoordinateZisPositive: up\n",
       " unlimited dimensions: \n",
       " current shape = (17,)\n",
       " filling off,\n",
       " 'time': <class 'netCDF4._netCDF4.Variable'>\n",
       " float64 time(time)\n",
       "     units: days since 1990-01-01 00:00:00 +10\n",
       "     long_name: Time\n",
       "     standard_name: time\n",
       "     coordinate_type: time\n",
       "     calendar: gregorian\n",
       "     _CoordinateAxisType: Time\n",
       "     _ChunkSizes: 1024\n",
       " unlimited dimensions: time\n",
       " current shape = (31,)\n",
       " filling off,\n",
       " 'latitude': <class 'netCDF4._netCDF4.Variable'>\n",
       " float64 latitude(latitude)\n",
       "     long_name: Latitude\n",
       "     standard_name: latitude\n",
       "     units: degrees_north\n",
       "     coordinate_type: latitude\n",
       "     projection: geographic\n",
       "     _CoordinateAxisType: Lat\n",
       " unlimited dimensions: \n",
       " current shape = (723,)\n",
       " filling off,\n",
       " 'longitude': <class 'netCDF4._netCDF4.Variable'>\n",
       " float64 longitude(longitude)\n",
       "     standard_name: longitude\n",
       "     long_name: Longitude\n",
       "     units: degrees_east\n",
       "     coordinate_type: longitude\n",
       "     projection: geographic\n",
       "     _CoordinateAxisType: Lon\n",
       " unlimited dimensions: \n",
       " current shape = (491,)\n",
       " filling off,\n",
       " 'mean_wspeed': <class 'netCDF4._netCDF4.Variable'>\n",
       " float32 mean_wspeed(time, latitude, longitude)\n",
       "     coordinates: time latitude longitude\n",
       "     units: ms-1\n",
       "     short_name: mean_wspeed\n",
       "     aggregation: mean_speed\n",
       "     standard_name: mean_wind_speed\n",
       "     long_name: mean_wind_speed\n",
       "     _ChunkSizes: [  1 133 491]\n",
       " unlimited dimensions: time\n",
       " current shape = (31, 723, 491)\n",
       " filling off,\n",
       " 'eta': <class 'netCDF4._netCDF4.Variable'>\n",
       " float32 eta(time, latitude, longitude)\n",
       "     coordinates: time latitude longitude\n",
       "     substanceOrTaxon_id: http://environment.data.gov.au/def/feature/ocean_near_surface\n",
       "     scaledQuantityKind_id: http://environment.data.gov.au/def/property/sea_surface_elevation\n",
       "     short_name: eta\n",
       "     standard_name: sea_surface_height_above_sea_level\n",
       "     aggregation: Daily\n",
       "     units: metre\n",
       "     positive: up\n",
       "     medium_id: http://environment.data.gov.au/def/feature/ocean\n",
       "     unit_id: http://qudt.org/vocab/unit#Meter\n",
       "     long_name: Surface elevation\n",
       "     _ChunkSizes: [  1 133 491]\n",
       " unlimited dimensions: time\n",
       " current shape = (31, 723, 491)\n",
       " filling off,\n",
       " 'wspeed_u': <class 'netCDF4._netCDF4.Variable'>\n",
       " float32 wspeed_u(time, latitude, longitude)\n",
       "     coordinates: time latitude longitude\n",
       "     short_name: wspeed_u\n",
       "     aggregation: Daily\n",
       "     units: ms-1\n",
       "     long_name: eastward_wind\n",
       "     _ChunkSizes: [  1 133 491]\n",
       " unlimited dimensions: time\n",
       " current shape = (31, 723, 491)\n",
       " filling off,\n",
       " 'wspeed_v': <class 'netCDF4._netCDF4.Variable'>\n",
       " float32 wspeed_v(time, latitude, longitude)\n",
       "     coordinates: time latitude longitude\n",
       "     short_name: wspeed_v\n",
       "     aggregation: Daily\n",
       "     units: ms-1\n",
       "     long_name: northward_wind\n",
       "     _ChunkSizes: [  1 133 491]\n",
       " unlimited dimensions: time\n",
       " current shape = (31, 723, 491)\n",
       " filling off}"
      ]
     },
     "execution_count": 3,
     "metadata": {},
     "output_type": "execute_result"
    }
   ],
   "source": [
    "# OPeNDAP URL to file \"EREEFS_AIMS-CSIRO_gbr4_v2_hydro_daily-monthly-YYYY-MM.nc\". Hydrodynamic 4km model, daily data for the month specified\n",
    "inputFile = \"http://thredds.ereefs.aims.gov.au/thredds/dodsC/s3://aims-ereefs-public-prod/derived/ncaggregate/ereefs/gbr4_v2/daily-monthly/EREEFS_AIMS-CSIRO_gbr4_v2_hydro_daily-monthly-\"+netCDF_datestr+\".nc\"\n",
    "\n",
    "nc_data = Dataset(inputFile, 'r')\n",
    "print(nc_data.title)\n",
    "\n",
    "# To find a list of the variables uncomment the next line: \n",
    "nc_data.variables"
   ]
  },
  {
   "cell_type": "markdown",
   "metadata": {},
   "source": [
    "Work out the bounds of the gridded data. We can then used this to find out which grid cell best matches our location of interest. Note: This only works because the AIMS eReefs aggregate datasets are regridded onto a regularly spaced grid. The original raw model data is on a curvilinear grid and this approach would not work for that data."
   ]
  },
  {
   "cell_type": "code",
   "execution_count": 4,
   "metadata": {},
   "outputs": [
    {
     "name": "stdout",
     "output_type": "stream",
     "text": [
      "Grid bounds, Lon: 142.168788 - 156.868788 Lat:-28.696022 - -7.036022\n",
      "Grid size is: 491 x 723\n"
     ]
    }
   ],
   "source": [
    "lons = nc_data.variables['longitude'][:]\n",
    "max_lon = max(lons)\n",
    "min_lon = min(lons) \n",
    "lats = nc_data.variables['latitude'][:]\n",
    "max_lat = max(lats)\n",
    "min_lat = min(lats)\n",
    "grid_lon = lons.size\n",
    "grid_lat = lats.size\n",
    "print(\"Grid bounds, Lon: \"+str(min_lon)+\" - \"+str(max_lon)+\" Lat:\"+str(min_lat)+\" - \"+str(max_lat))\n",
    "print(\"Grid size is: \"+str(grid_lon)+\" x \"+str(grid_lat))"
   ]
  },
  {
   "cell_type": "markdown",
   "metadata": {},
   "source": [
    "Find the closest index to the location of interest."
   ]
  },
  {
   "cell_type": "code",
   "execution_count": 5,
   "metadata": {},
   "outputs": [
    {
     "name": "stdout",
     "output_type": "stream",
     "text": [
      "Grid position of location: 330, 183\n"
     ]
    }
   ],
   "source": [
    "# Davies reef\n",
    "lat = -18.82\n",
    "lon = 147.64\n",
    "selectedLatIndex = round((lat-min_lat)/(max_lat-min_lat)*grid_lat)\n",
    "selectedLonIndex = round((lon-min_lon)/(max_lon-min_lon)*grid_lon)\n",
    "print(\"Grid position of location: \"+str(selectedLatIndex)+\", \"+str(selectedLonIndex))"
   ]
  },
  {
   "cell_type": "markdown",
   "metadata": {},
   "source": [
    "Extract the values over time at this location. Note that because we are access the underlying data here this results in an OpeNDAP call to get the data from the remote server. As a result this call can take a while (~10 sec)."
   ]
  },
  {
   "cell_type": "code",
   "execution_count": 6,
   "metadata": {},
   "outputs": [
    {
     "name": "stdout",
     "output_type": "stream",
     "text": [
      "[[29.586527 27.764503]\n",
      " [29.513176 27.867159]\n",
      " [29.505758 28.179167]\n",
      " [29.782936 28.216429]\n",
      " [30.008278 28.062304]]\n"
     ]
    }
   ],
   "source": [
    "selectedDepthIndex = 15 # -1.5m\n",
    "selectedDepthIndex2 = 10 # -17.75m\n",
    "\n",
    "# Time, Depth, Lat, Lon\n",
    "dailyTemp1 = nc_data.variables['temp'][:,[selectedDepthIndex,selectedDepthIndex2], selectedLatIndex, selectedLonIndex]\n",
    "print(dailyTemp1[0:5])"
   ]
  },
  {
   "cell_type": "markdown",
   "metadata": {},
   "source": [
    "Let's get the wind for the same location. The wind variable doesn't have any depth dimension and so our indexing into the data is different. The wind is a vector measurement, with an x and y component. "
   ]
  },
  {
   "cell_type": "code",
   "execution_count": 7,
   "metadata": {},
   "outputs": [],
   "source": [
    "wspeed_v = nc_data.variables['wspeed_v'][:, selectedLatIndex, selectedLonIndex]\n",
    "wspeed_u = nc_data.variables['wspeed_v'][:, selectedLatIndex, selectedLonIndex]"
   ]
  },
  {
   "cell_type": "markdown",
   "metadata": {},
   "source": [
    "To get the wind speed we need to calculate the magnitude of this vector."
   ]
  },
  {
   "cell_type": "code",
   "execution_count": 8,
   "metadata": {},
   "outputs": [],
   "source": [
    "wspeed = np.sqrt(wspeed_v**2 + wspeed_u**2)"
   ]
  },
  {
   "cell_type": "markdown",
   "metadata": {},
   "source": [
    "Get the time series. Note that the time values are stored as the number of days since 1990-01-01 00:00:00 +10. "
   ]
  },
  {
   "cell_type": "code",
   "execution_count": 9,
   "metadata": {},
   "outputs": [
    {
     "name": "stdout",
     "output_type": "stream",
     "text": [
      "[11017. 11018. 11019. 11020. 11021.]\n"
     ]
    }
   ],
   "source": [
    "times = nc_data.variables['time'][:]\n",
    "print(times[0:5])"
   ]
  },
  {
   "cell_type": "code",
   "execution_count": 10,
   "metadata": {},
   "outputs": [
    {
     "data": {
      "image/png": "[encoded data removed]",
      "text/plain": [
       "<Figure size 576x504 with 2 Axes>"
      ]
     },
     "metadata": {
      "needs_background": "light"
     },
     "output_type": "display_data"
    }
   ],
   "source": [
    "# Convert the days since the 1990 origin into Pandas dates for plotting\n",
    "t = pd.to_datetime(times,unit='D',origin=pd.Timestamp('1990-01-01'))\n",
    "\n",
    "fig, ax1 = plt.subplots()\n",
    "fig.set_size_inches(8, 7)\n",
    "\n",
    "\n",
    "ax1.set_xlabel('Date')\n",
    "ax1.set_ylabel('Temperature (deg C)')\n",
    "ax1.plot(t, dailyTemp1[:,0], color='tab:red', label='Temp (-1.5 m)')\n",
    "ax1.plot(t, dailyTemp1[:,1], color='tab:orange', label='Temp (-17.75 m)')\n",
    "#ax1.tick_params(axis='y', labelcolor=color)\n",
    "\n",
    "ax2 = ax1.twinx()  # instantiate a second axes that shares the same x-axis\n",
    "\n",
    "color = 'tab:blue'\n",
    "ax2.set_ylabel('Wind speed (m/s)', color=color)  # we already handled the x-label with ax1\n",
    "ax2.plot(t, wspeed, color=color, label='Wind')\n",
    "ax2.tick_params(axis='y', labelcolor=color)\n",
    "\n",
    "fig.legend()\n",
    "# Set the axes formating to show the dates on an angle on the current figure (gcf)\n",
    "plt.gcf().autofmt_xdate()\n",
    "\n",
    "#fig.tight_layout()  # otherwise the right y-label is slightly clipped"
   ]
  },
  {
   "cell_type": "markdown",
   "metadata": {},
   "source": [
    "From this graph we can see that the surface water at Davies Reef was very warm during March 2020. There was a strong stratification of the temperature profile with cool water at -18 m. Around the 10th March the wind picked up for a few days, mixing the water, cooling the surface down rapidly."
   ]
  }
 ],
 "metadata": {
  "kernelspec": {
   "display_name": "Python 3",
   "language": "python",
   "name": "python3"
  },
  "language_info": {
   "codemirror_mode": {
    "name": "ipython",
    "version": 3
   },
   "file_extension": ".py",
   "mimetype": "text/x-python",
   "name": "python",
   "nbconvert_exporter": "python",
   "pygments_lexer": "ipython3",
   "version": "3.8.5"
  }
 },
 "nbformat": 4,
 "nbformat_minor": 4
}
